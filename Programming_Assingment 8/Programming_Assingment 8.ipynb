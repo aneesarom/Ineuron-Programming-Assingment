{
 "cells": [
  {
   "cell_type": "markdown",
   "id": "5e7f21e7",
   "metadata": {},
   "source": [
    "# 1.\tWrite a Python Program to Add Two Matrices?"
   ]
  },
  {
   "cell_type": "code",
   "execution_count": 259,
   "id": "a442952d",
   "metadata": {},
   "outputs": [],
   "source": [
    "import numpy as np\n",
    "\n",
    "def add_matrix(a, b):\n",
    "    return a+b"
   ]
  },
  {
   "cell_type": "code",
   "execution_count": 260,
   "id": "f88c6bbc",
   "metadata": {},
   "outputs": [],
   "source": [
    "a = np.random.randint(1, 10, size=(3, 3))\n",
    "b = np.random.randint(1, 10, size=(3, 3))"
   ]
  },
  {
   "cell_type": "code",
   "execution_count": 261,
   "id": "eddff471",
   "metadata": {},
   "outputs": [
    {
     "data": {
      "text/plain": [
       "array([[14,  7, 10],\n",
       "       [15, 16, 13],\n",
       "       [13, 12, 10]])"
      ]
     },
     "execution_count": 261,
     "metadata": {},
     "output_type": "execute_result"
    }
   ],
   "source": [
    "add_matrix(a, b)"
   ]
  },
  {
   "cell_type": "markdown",
   "id": "3b43c878",
   "metadata": {},
   "source": [
    "# 2.\tWrite a Python Program to Multiply Two Matrices?"
   ]
  },
  {
   "cell_type": "code",
   "execution_count": 266,
   "id": "e6d2b948",
   "metadata": {},
   "outputs": [],
   "source": [
    "def matrix_multiplication(a, b):\n",
    "    return a@b"
   ]
  },
  {
   "cell_type": "code",
   "execution_count": 267,
   "id": "a4a9e31c",
   "metadata": {},
   "outputs": [
    {
     "data": {
      "text/plain": [
       "array([[121,  85,  94],\n",
       "       [147, 107, 115],\n",
       "       [130,  89,  99]])"
      ]
     },
     "execution_count": 267,
     "metadata": {},
     "output_type": "execute_result"
    }
   ],
   "source": [
    "matrix_multiplication(a, b)"
   ]
  },
  {
   "cell_type": "markdown",
   "id": "44aed9e8",
   "metadata": {},
   "source": [
    "# 3.\tWrite a Python Program to Transpose a Matrix?"
   ]
  },
  {
   "cell_type": "code",
   "execution_count": 23,
   "id": "ab7fd88f",
   "metadata": {},
   "outputs": [],
   "source": [
    "def transpose_matrix(a):\n",
    "    return np.transpose(a)"
   ]
  },
  {
   "cell_type": "code",
   "execution_count": 24,
   "id": "e80f917b",
   "metadata": {},
   "outputs": [
    {
     "data": {
      "text/plain": [
       "array([[1, 3, 4],\n",
       "       [6, 3, 3],\n",
       "       [6, 3, 9]])"
      ]
     },
     "execution_count": 24,
     "metadata": {},
     "output_type": "execute_result"
    }
   ],
   "source": [
    "transpose_matrix(a)"
   ]
  },
  {
   "cell_type": "markdown",
   "id": "cc85e74d",
   "metadata": {},
   "source": [
    "# 4.\tWrite a Python Program to Sort Words in Alphabetic Order?"
   ]
  },
  {
   "cell_type": "code",
   "execution_count": 258,
   "id": "96e7cf14",
   "metadata": {},
   "outputs": [
    {
     "name": "stdout",
     "output_type": "stream",
     "text": [
      "Enter the sentence: anees is machine learning engineer\n",
      "anees engineer is learning machine "
     ]
    }
   ],
   "source": [
    "sentence = input(\"Enter the sentence: \")\n",
    "\n",
    "words_list = sentence.split(\" \")\n",
    "\n",
    "words_list.sort()\n",
    "\n",
    "for words in words_list:\n",
    "    print(words, end=\" \")\n"
   ]
  },
  {
   "cell_type": "markdown",
   "id": "dae28b5c",
   "metadata": {},
   "source": [
    "# 5.\tWrite a Python Program to Remove Punctuation From a String?"
   ]
  },
  {
   "cell_type": "code",
   "execution_count": 257,
   "id": "6353da70",
   "metadata": {},
   "outputs": [
    {
     "name": "stdout",
     "output_type": "stream",
     "text": [
      "Enter the sentence: {Anees} is a <machine learning engineer>!!!!.\n",
      "Anees is a machine learning engineer\n"
     ]
    }
   ],
   "source": [
    "punctuations = '''!()-[]{};:'\"\\,<>./?@#$%^&*_~'''\n",
    "\n",
    "new_string = \"\"\n",
    "\n",
    "entered_string = input(\"Enter the sentence: \")\n",
    "\n",
    "for char in entered_string:\n",
    "    if char not in punctuations:\n",
    "        new_string += char\n",
    "\n",
    "print(new_string)"
   ]
  },
  {
   "cell_type": "code",
   "execution_count": null,
   "id": "75f612ea",
   "metadata": {},
   "outputs": [],
   "source": []
  }
 ],
 "metadata": {
  "kernelspec": {
   "display_name": "Python 3 (ipykernel)",
   "language": "python",
   "name": "python3"
  },
  "language_info": {
   "codemirror_mode": {
    "name": "ipython",
    "version": 3
   },
   "file_extension": ".py",
   "mimetype": "text/x-python",
   "name": "python",
   "nbconvert_exporter": "python",
   "pygments_lexer": "ipython3",
   "version": "3.8.16"
  }
 },
 "nbformat": 4,
 "nbformat_minor": 5
}
