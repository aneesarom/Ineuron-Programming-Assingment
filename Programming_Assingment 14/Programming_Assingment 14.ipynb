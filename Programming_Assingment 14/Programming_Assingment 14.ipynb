{
 "cells": [
  {
   "cell_type": "markdown",
   "id": "3358c5a1",
   "metadata": {},
   "source": [
    "# Question 1:\n",
    "\n",
    "Define a class with a generator which can iterate the numbers, which are divisible by 7, between a given range 0 and n.\n"
   ]
  },
  {
   "cell_type": "code",
   "execution_count": 93,
   "id": "af6ac555",
   "metadata": {},
   "outputs": [],
   "source": [
    "class DivisibleBy7:\n",
    "    def __init__(self, max):\n",
    "        self.max = max + 1\n",
    "        \n",
    "    def generator(self):\n",
    "        for i in range(0, self.max):\n",
    "            if i%7 == 0:\n",
    "                yield(i)"
   ]
  },
  {
   "cell_type": "code",
   "execution_count": 98,
   "id": "bab0aa34",
   "metadata": {},
   "outputs": [],
   "source": [
    "seven = DivisibleBy7(100)"
   ]
  },
  {
   "cell_type": "code",
   "execution_count": 99,
   "id": "31a28e30",
   "metadata": {},
   "outputs": [
    {
     "name": "stdout",
     "output_type": "stream",
     "text": [
      "0\n",
      "7\n",
      "14\n",
      "21\n",
      "28\n",
      "35\n",
      "42\n",
      "49\n",
      "56\n",
      "63\n",
      "70\n",
      "77\n",
      "84\n",
      "91\n",
      "98\n"
     ]
    }
   ],
   "source": [
    "for i in seven.generator():\n",
    "    print(i)"
   ]
  },
  {
   "cell_type": "markdown",
   "id": "0bb3a3f9",
   "metadata": {},
   "source": [
    "# Question 2:\n",
    "Write a program to compute the frequency of the words from the input. The output should output after sorting the key alphanumerically. \n",
    "\n",
    "Suppose the following input is supplied to the program:\n",
    "\n",
    "New to Python or choosing between Python 2 and Python 3? Read Python 2 or Python 3.\n",
    "\n",
    "Then, the output should be:\n",
    "\n",
    "2:2\n",
    "\n",
    "3.:1\n",
    "\n",
    "3?:1\n",
    "\n",
    "New:1\n",
    "\n",
    "Python:5\n",
    "\n",
    "Read:1\n",
    "\n",
    "and:1\n",
    "\n",
    "between:1\n",
    "\n",
    "choosing:1\n",
    "\n",
    "or:2\n",
    "\n",
    "to:1"
   ]
  },
  {
   "cell_type": "code",
   "execution_count": 50,
   "id": "f568c815",
   "metadata": {},
   "outputs": [],
   "source": [
    "def frequency_of_words(string):\n",
    "    string = string.split(\" \")\n",
    "    string.sort()\n",
    "    printed_words = []\n",
    "    for word in string:\n",
    "        count = string.count(word)\n",
    "        if word not in printed_words:\n",
    "            printed_words.append(word)\n",
    "            print(f\"{word}:{count}\")"
   ]
  },
  {
   "cell_type": "code",
   "execution_count": 51,
   "id": "7ae9ca53",
   "metadata": {},
   "outputs": [
    {
     "name": "stdout",
     "output_type": "stream",
     "text": [
      "2:2\n",
      "3.:1\n",
      "3?:1\n",
      "New:1\n",
      "Python:5\n",
      "Read:1\n",
      "and:1\n",
      "between:1\n",
      "choosing:1\n",
      "or:2\n",
      "to:1\n"
     ]
    }
   ],
   "source": [
    "frequency_of_words(\"New to Python or choosing between Python 2 and Python 3? Read Python 2 or Python 3.\")"
   ]
  },
  {
   "cell_type": "markdown",
   "id": "b69be247",
   "metadata": {},
   "source": [
    "# Question 3:\n",
    "\n",
    "\n",
    "\n",
    "Define a class Person and its two child classes: Male and Female. All classes have a method \"getGender\" which can print \"Male\" for Male class and \"Female\" for Female class.\n"
   ]
  },
  {
   "cell_type": "code",
   "execution_count": 53,
   "id": "1d120b57",
   "metadata": {},
   "outputs": [],
   "source": [
    "class Person():\n",
    "    def getGender(self):\n",
    "        return \"Unknown\"\n",
    "\n",
    "class Male(Person):\n",
    "    def getGender(self):\n",
    "        return \"Male\"\n",
    "\n",
    "class Female(Person):\n",
    "    def getGender(self):\n",
    "        return \"Female\""
   ]
  },
  {
   "cell_type": "code",
   "execution_count": 56,
   "id": "856103c9",
   "metadata": {},
   "outputs": [
    {
     "name": "stdout",
     "output_type": "stream",
     "text": [
      "Male\n",
      "Female\n"
     ]
    }
   ],
   "source": [
    "male = Male()\n",
    "female = Female()\n",
    "print(male.getGender())\n",
    "print(female.getGender())"
   ]
  },
  {
   "cell_type": "markdown",
   "id": "f7448db6",
   "metadata": {},
   "source": [
    "# Question 4:\n",
    "Please write a program to generate all sentences where subject is in [\"I\", \"You\"] and verb is in [\"Play\", \"Love\"] and the object is in [\"Hockey\",\"Football\"].\n"
   ]
  },
  {
   "cell_type": "code",
   "execution_count": 58,
   "id": "598cbbed",
   "metadata": {},
   "outputs": [
    {
     "name": "stdout",
     "output_type": "stream",
     "text": [
      "I Play Hockey\n",
      "I Play Football\n",
      "I Love Hockey\n",
      "I Love Football\n",
      "You Play Hockey\n",
      "You Play Football\n",
      "You Love Hockey\n",
      "You Love Football\n"
     ]
    }
   ],
   "source": [
    "subject = [\"I\", \"You\"] \n",
    "verb = [\"Play\", \"Love\"]\n",
    "obj = [\"Hockey\",\"Football\"]\n",
    "\n",
    "for s in subject:\n",
    "    for v in verb:\n",
    "        for o in obj:\n",
    "            print(f\"{s} {v} {o}\")"
   ]
  },
  {
   "cell_type": "markdown",
   "id": "25540602",
   "metadata": {},
   "source": [
    "# Question 5:\n",
    "Please write a program to compress and decompress the string \"hello world!hello world!hello world!hello world!\"."
   ]
  },
  {
   "cell_type": "code",
   "execution_count": 62,
   "id": "12811ae2",
   "metadata": {},
   "outputs": [
    {
     "name": "stdout",
     "output_type": "stream",
     "text": [
      "b'x\\x9c\\xcbH\\xcd\\xc9\\xc9W(\\xcf/\\xcaIQ\\xcc \\xcc\\x06\\x00\\xabf\\x11\\xd4'\n",
      "b'hello world!hello world!hello world!hello world'\n"
     ]
    }
   ],
   "source": [
    "import zlib\n",
    "\n",
    "string = b\"hello world!hello world!hello world!hello world\"\n",
    "\n",
    "compressed = zlib.compress(string)\n",
    "decompressed = zlib.decompress(compressed)\n",
    "\n",
    "print(compressed)\n",
    "print(decompressed)"
   ]
  },
  {
   "cell_type": "markdown",
   "id": "1245ba0e",
   "metadata": {},
   "source": [
    "# Question 6:\n",
    "Please write a binary search function which searches an item in a sorted list. The function should return the index of element to be searched in the list.\n"
   ]
  },
  {
   "cell_type": "code",
   "execution_count": 72,
   "id": "7c9a44f0",
   "metadata": {},
   "outputs": [],
   "source": [
    "def binary_search(li, item):\n",
    "    start_index = 0\n",
    "    end_index = len(li) - 1\n",
    "    \n",
    "    while start_index <= end_index:\n",
    "        middle = (start_index + end_index) // 2\n",
    "        if li[middle] == item:\n",
    "            return middle\n",
    "        elif li[middle] < item:\n",
    "            start_index = middle + 1\n",
    "        else:\n",
    "            end_index = middle - 1\n",
    "    \n",
    "    return \"not found in list\""
   ]
  }
 ],
 "metadata": {
  "kernelspec": {
   "display_name": "Python 3 (ipykernel)",
   "language": "python",
   "name": "python3"
  },
  "language_info": {
   "codemirror_mode": {
    "name": "ipython",
    "version": 3
   },
   "file_extension": ".py",
   "mimetype": "text/x-python",
   "name": "python",
   "nbconvert_exporter": "python",
   "pygments_lexer": "ipython3",
   "version": "3.8.16"
  }
 },
 "nbformat": 4,
 "nbformat_minor": 5
}
