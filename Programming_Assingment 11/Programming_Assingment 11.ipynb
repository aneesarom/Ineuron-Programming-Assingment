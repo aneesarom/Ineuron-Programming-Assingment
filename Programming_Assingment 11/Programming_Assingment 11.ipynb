{
 "cells": [
  {
   "cell_type": "markdown",
   "id": "d5b9269c",
   "metadata": {},
   "source": [
    "# 1.\tWrite a Python program to find words which are greater than given length k?"
   ]
  },
  {
   "cell_type": "code",
   "execution_count": 1,
   "id": "51b1618e",
   "metadata": {},
   "outputs": [],
   "source": [
    "def string_length(k):\n",
    "    string = input(\"Enter the string: \")\n",
    "    string = string.split(\" \")\n",
    "    new_string = \"\"\n",
    "    for word in string:\n",
    "        if len(word) > k:\n",
    "            new_string += word + \" \"\n",
    "    print(new_string)"
   ]
  },
  {
   "cell_type": "code",
   "execution_count": 2,
   "id": "0d3c5d7f",
   "metadata": {},
   "outputs": [
    {
     "name": "stdout",
     "output_type": "stream",
     "text": [
      "Enter the string: anees aro ml engineer\n",
      "engineer \n"
     ]
    }
   ],
   "source": [
    "string_length(5)"
   ]
  },
  {
   "cell_type": "markdown",
   "id": "52c4e0e9",
   "metadata": {},
   "source": [
    "# 2.\tWrite a Python program for removing i-th character from a string?"
   ]
  },
  {
   "cell_type": "code",
   "execution_count": 3,
   "id": "42bb2d0d",
   "metadata": {},
   "outputs": [],
   "source": [
    "def char_remove(k):\n",
    "    string = input(\"Enter the string: \")\n",
    "    new_string = \"\"\n",
    "    for i, char in enumerate(string):\n",
    "        if i != k:\n",
    "            new_string += char\n",
    "    print(new_string)"
   ]
  },
  {
   "cell_type": "code",
   "execution_count": 4,
   "id": "3bafc985",
   "metadata": {},
   "outputs": [
    {
     "name": "stdout",
     "output_type": "stream",
     "text": [
      "Enter the string: anees aro\n",
      "aees aro\n"
     ]
    }
   ],
   "source": [
    "char_remove(1)"
   ]
  },
  {
   "cell_type": "markdown",
   "id": "c4fef9d6",
   "metadata": {},
   "source": [
    "# 3.\tWrite a Python program to split and join a string?"
   ]
  },
  {
   "cell_type": "code",
   "execution_count": 6,
   "id": "219418e8",
   "metadata": {},
   "outputs": [],
   "source": [
    "def split_join(join_method=\"-\"):\n",
    "    string = input(\"Enter the string: \") \n",
    "    string_li = string.split(\" \")\n",
    "    joined = join_method.join(string_li)\n",
    "    print(joined)"
   ]
  },
  {
   "cell_type": "code",
   "execution_count": 7,
   "id": "bf42518e",
   "metadata": {},
   "outputs": [
    {
     "name": "stdout",
     "output_type": "stream",
     "text": [
      "Enter the string: anees aro machine learning engineer\n",
      "anees---aro---machine---learning---engineer\n"
     ]
    }
   ],
   "source": [
    "split_join(\"---\")"
   ]
  },
  {
   "cell_type": "markdown",
   "id": "1bbec771",
   "metadata": {},
   "source": [
    "# 4.\tWrite a Python to check if a given string is binary string or not?"
   ]
  },
  {
   "cell_type": "code",
   "execution_count": 9,
   "id": "4f236029",
   "metadata": {},
   "outputs": [],
   "source": [
    "def check_binary():\n",
    "    string = input(\"Enter the string: \") \n",
    "    count = 0\n",
    "    for char in string:\n",
    "        if char == \"0\" or char == \"1\":\n",
    "            count += 1\n",
    "    if count == len(string):\n",
    "        print(\"The given string is binary\")\n",
    "    else:\n",
    "        print(\"The given string is not binary\")"
   ]
  },
  {
   "cell_type": "code",
   "execution_count": 12,
   "id": "2c7120c5",
   "metadata": {},
   "outputs": [
    {
     "name": "stdout",
     "output_type": "stream",
     "text": [
      "Enter the string: anees12aro\n",
      "The given string is not binary\n"
     ]
    }
   ],
   "source": [
    "check_binary()"
   ]
  },
  {
   "cell_type": "code",
   "execution_count": 13,
   "id": "6c9b6a0e",
   "metadata": {},
   "outputs": [
    {
     "name": "stdout",
     "output_type": "stream",
     "text": [
      "Enter the string: 1010111001\n",
      "The given string is binary\n"
     ]
    }
   ],
   "source": [
    "check_binary()"
   ]
  },
  {
   "cell_type": "markdown",
   "id": "0ac338b8",
   "metadata": {},
   "source": [
    "# 5.\tWrite a Python program to find uncommon words from two Strings?"
   ]
  },
  {
   "cell_type": "code",
   "execution_count": 14,
   "id": "29be2bed",
   "metadata": {},
   "outputs": [],
   "source": [
    "def uncommon_words(string1, string2):\n",
    "    uncommon = \"\"\n",
    "    string1 = string1.split(\" \")\n",
    "    string2 = string2.split(\" \")\n",
    "    if len(string1) > len(string2):\n",
    "        length_1 = string1\n",
    "        length_2 = string2\n",
    "    else:\n",
    "        length_1 = string2\n",
    "        length_2 = string1\n",
    "    for i, char in enumerate(length_1):\n",
    "        if char not in length_2:\n",
    "            uncommon += char + \" \"\n",
    "    print(uncommon)"
   ]
  },
  {
   "cell_type": "code",
   "execution_count": 15,
   "id": "bbabd52c",
   "metadata": {},
   "outputs": [],
   "source": [
    "string1 = \"anees aro is a data scientist\"\n",
    "string2 = \"anees aro has been working as a design engineer and he is data scientist\""
   ]
  },
  {
   "cell_type": "code",
   "execution_count": 16,
   "id": "22198c4a",
   "metadata": {},
   "outputs": [
    {
     "name": "stdout",
     "output_type": "stream",
     "text": [
      "has been working as design engineer and he \n"
     ]
    }
   ],
   "source": [
    "uncommon_words(string1, string2)"
   ]
  },
  {
   "cell_type": "markdown",
   "id": "63a68773",
   "metadata": {},
   "source": [
    "# 6.\tWrite a Python to find all duplicate characters in string?"
   ]
  },
  {
   "cell_type": "code",
   "execution_count": 17,
   "id": "db6025f7",
   "metadata": {},
   "outputs": [],
   "source": [
    "def duplicate_Words(string):\n",
    "    check_string = string\n",
    "    new_string = \"\"\n",
    "    for i, char in enumerate(check_string):\n",
    "        if char not in new_string:\n",
    "            new_string += char\n",
    "        else:\n",
    "            print(f\"charcter '{char}' is available more than one time\")"
   ]
  },
  {
   "cell_type": "code",
   "execution_count": 18,
   "id": "d8a25e6e",
   "metadata": {},
   "outputs": [
    {
     "name": "stdout",
     "output_type": "stream",
     "text": [
      "charcter 'e' is available more than one time\n",
      "charcter 'a' is available more than one time\n"
     ]
    }
   ],
   "source": [
    "duplicate_Words(\"aneesaro\")"
   ]
  },
  {
   "cell_type": "markdown",
   "id": "53a182fa",
   "metadata": {},
   "source": [
    "# 7.\tWrite a Python Program to check if a string contains any special character?"
   ]
  },
  {
   "cell_type": "code",
   "execution_count": 19,
   "id": "28f84586",
   "metadata": {},
   "outputs": [],
   "source": [
    "import re\n",
    "\n",
    "def special_character_check(string):\n",
    "    pattern = \"[^A-Za-z0-9]\"\n",
    "    if re.findall(pattern, string):\n",
    "        print(\"Contains special character\")\n",
    "    else:\n",
    "        print(\"Contains no special character\")"
   ]
  },
  {
   "cell_type": "code",
   "execution_count": 20,
   "id": "c2b59f54",
   "metadata": {},
   "outputs": [
    {
     "name": "stdout",
     "output_type": "stream",
     "text": [
      "Contains special character\n"
     ]
    }
   ],
   "source": [
    "special_character_check(\"(anees)\")"
   ]
  },
  {
   "cell_type": "code",
   "execution_count": 21,
   "id": "6e2b40aa",
   "metadata": {},
   "outputs": [
    {
     "name": "stdout",
     "output_type": "stream",
     "text": [
      "Contains special character\n"
     ]
    }
   ],
   "source": [
    "special_character_check(\"{anees}\")"
   ]
  },
  {
   "cell_type": "code",
   "execution_count": 22,
   "id": "64f1b386",
   "metadata": {},
   "outputs": [
    {
     "name": "stdout",
     "output_type": "stream",
     "text": [
      "Contains no special character\n"
     ]
    }
   ],
   "source": [
    "special_character_check(\"anees\")"
   ]
  }
 ],
 "metadata": {
  "kernelspec": {
   "display_name": "Python 3 (ipykernel)",
   "language": "python",
   "name": "python3"
  },
  "language_info": {
   "codemirror_mode": {
    "name": "ipython",
    "version": 3
   },
   "file_extension": ".py",
   "mimetype": "text/x-python",
   "name": "python",
   "nbconvert_exporter": "python",
   "pygments_lexer": "ipython3",
   "version": "3.8.16"
  }
 },
 "nbformat": 4,
 "nbformat_minor": 5
}
