{
 "cells": [
  {
   "cell_type": "markdown",
   "id": "03638842",
   "metadata": {},
   "source": [
    "# 1.\tWrite a Python Program to Find the Factorial of a Number?"
   ]
  },
  {
   "cell_type": "code",
   "execution_count": 1,
   "id": "481cc086",
   "metadata": {},
   "outputs": [],
   "source": [
    "def fact(num):\n",
    "    if num == 1:\n",
    "        return num\n",
    "    else:\n",
    "        return num * fact(num-1)"
   ]
  },
  {
   "cell_type": "code",
   "execution_count": 4,
   "id": "09b8e286",
   "metadata": {},
   "outputs": [
    {
     "data": {
      "text/plain": [
       "120"
      ]
     },
     "execution_count": 4,
     "metadata": {},
     "output_type": "execute_result"
    }
   ],
   "source": [
    "fact(5)"
   ]
  },
  {
   "cell_type": "markdown",
   "id": "1187583a",
   "metadata": {},
   "source": [
    "# 2.\tWrite a Python Program to Display the multiplication Table?"
   ]
  },
  {
   "cell_type": "code",
   "execution_count": 10,
   "id": "6a1d380a",
   "metadata": {},
   "outputs": [],
   "source": [
    "def multiplication_table(num):\n",
    "    for i in range(13):\n",
    "        print(f\"{num} X {i} = {num*i}\")"
   ]
  },
  {
   "cell_type": "code",
   "execution_count": 12,
   "id": "f2495263",
   "metadata": {},
   "outputs": [
    {
     "name": "stdout",
     "output_type": "stream",
     "text": [
      "8 X 0 = 0\n",
      "8 X 1 = 8\n",
      "8 X 2 = 16\n",
      "8 X 3 = 24\n",
      "8 X 4 = 32\n",
      "8 X 5 = 40\n",
      "8 X 6 = 48\n",
      "8 X 7 = 56\n",
      "8 X 8 = 64\n",
      "8 X 9 = 72\n",
      "8 X 10 = 80\n",
      "8 X 11 = 88\n",
      "8 X 12 = 96\n"
     ]
    }
   ],
   "source": [
    "multiplication_table(8)"
   ]
  },
  {
   "cell_type": "markdown",
   "id": "c7baa650",
   "metadata": {},
   "source": [
    "# 3.\tWrite a Python Program to Print the Fibonacci sequence?"
   ]
  },
  {
   "cell_type": "code",
   "execution_count": 7,
   "id": "cde313b7",
   "metadata": {},
   "outputs": [],
   "source": [
    "def fibonacci(num):\n",
    "    result  = 0\n",
    "    li = []\n",
    "    for i in range(num):\n",
    "        if i < 2:\n",
    "            li.append(i)\n",
    "            print(i)\n",
    "        else:\n",
    "            result = li[-1] + li[-2]\n",
    "            li.append(result)\n",
    "            print(result)"
   ]
  },
  {
   "cell_type": "code",
   "execution_count": 9,
   "id": "9da331b2",
   "metadata": {},
   "outputs": [
    {
     "name": "stdout",
     "output_type": "stream",
     "text": [
      "0\n"
     ]
    }
   ],
   "source": [
    "fibonacci(1)"
   ]
  },
  {
   "cell_type": "markdown",
   "id": "a61cc2c4",
   "metadata": {},
   "source": [
    "# 4.\tWrite a Python Program to Check Armstrong Number?"
   ]
  },
  {
   "cell_type": "code",
   "execution_count": 89,
   "id": "e068c29d",
   "metadata": {},
   "outputs": [],
   "source": [
    "def armstrong(number):\n",
    "    string_num = str(number)\n",
    "    actual_result = 0\n",
    "    string_len = len(string_num)\n",
    "    for num in string_num:\n",
    "        actual_result += int(num)**string_len\n",
    "    if actual_result == number:\n",
    "        print(\"Number is armstrong\")\n",
    "    else:\n",
    "        print(\"Number is not armstrong\")"
   ]
  },
  {
   "cell_type": "code",
   "execution_count": 90,
   "id": "5226555f",
   "metadata": {},
   "outputs": [
    {
     "name": "stdout",
     "output_type": "stream",
     "text": [
      "Number is armstrong\n"
     ]
    }
   ],
   "source": [
    "armstrong(371)"
   ]
  },
  {
   "cell_type": "code",
   "execution_count": 91,
   "id": "0bd970e1",
   "metadata": {},
   "outputs": [
    {
     "name": "stdout",
     "output_type": "stream",
     "text": [
      "Number is armstrong\n"
     ]
    }
   ],
   "source": [
    "armstrong(407)"
   ]
  },
  {
   "cell_type": "code",
   "execution_count": 92,
   "id": "2303b8d8",
   "metadata": {},
   "outputs": [
    {
     "name": "stdout",
     "output_type": "stream",
     "text": [
      "Number is armstrong\n"
     ]
    }
   ],
   "source": [
    "armstrong(1634)"
   ]
  },
  {
   "cell_type": "code",
   "execution_count": 93,
   "id": "9f1a3231",
   "metadata": {},
   "outputs": [
    {
     "name": "stdout",
     "output_type": "stream",
     "text": [
      "Number is not armstrong\n"
     ]
    }
   ],
   "source": [
    "armstrong(99)"
   ]
  },
  {
   "cell_type": "markdown",
   "id": "a57ad43f",
   "metadata": {},
   "source": [
    "# 5.\tWrite a Python Program to Find Armstrong Number in an Interval?"
   ]
  },
  {
   "cell_type": "code",
   "execution_count": 94,
   "id": "06485631",
   "metadata": {},
   "outputs": [],
   "source": [
    "def armstrong_interval(min, max):\n",
    "    for number in range(min, max):\n",
    "        string_num = str(number)\n",
    "        string_len = len(string_num)\n",
    "        actual_result = 0\n",
    "        for num in string_num:\n",
    "            actual_result += int(num)**string_len\n",
    "        if actual_result == number:\n",
    "            print(f\"Number: {string_num} is armstrong\")"
   ]
  },
  {
   "cell_type": "code",
   "execution_count": 95,
   "id": "3b04e364",
   "metadata": {},
   "outputs": [
    {
     "name": "stdout",
     "output_type": "stream",
     "text": [
      "Number: 0 is armstrong\n",
      "Number: 1 is armstrong\n",
      "Number: 2 is armstrong\n",
      "Number: 3 is armstrong\n",
      "Number: 4 is armstrong\n",
      "Number: 5 is armstrong\n",
      "Number: 6 is armstrong\n",
      "Number: 7 is armstrong\n",
      "Number: 8 is armstrong\n",
      "Number: 9 is armstrong\n",
      "Number: 153 is armstrong\n",
      "Number: 370 is armstrong\n",
      "Number: 371 is armstrong\n",
      "Number: 407 is armstrong\n",
      "Number: 1634 is armstrong\n",
      "Number: 8208 is armstrong\n",
      "Number: 9474 is armstrong\n",
      "Number: 54748 is armstrong\n",
      "Number: 92727 is armstrong\n",
      "Number: 93084 is armstrong\n"
     ]
    }
   ],
   "source": [
    "armstrong_interval(0, 100000)"
   ]
  },
  {
   "cell_type": "markdown",
   "id": "bb127399",
   "metadata": {},
   "source": [
    "# 6.\tWrite a Python Program to Find the Sum of Natural Numbers?"
   ]
  },
  {
   "cell_type": "code",
   "execution_count": 105,
   "id": "e29eae42",
   "metadata": {},
   "outputs": [],
   "source": [
    "def sum_of_natural_numbers(num):\n",
    "    result = 0\n",
    "    for i in range(num+1):\n",
    "        result += i\n",
    "    print(result)"
   ]
  },
  {
   "cell_type": "code",
   "execution_count": 108,
   "id": "51f2c5e3",
   "metadata": {},
   "outputs": [
    {
     "name": "stdout",
     "output_type": "stream",
     "text": [
      "210\n"
     ]
    }
   ],
   "source": [
    "sum_of_natural_numbers(20)"
   ]
  },
  {
   "cell_type": "code",
   "execution_count": null,
   "id": "1a8f985f",
   "metadata": {},
   "outputs": [],
   "source": []
  }
 ],
 "metadata": {
  "kernelspec": {
   "display_name": "Python 3 (ipykernel)",
   "language": "python",
   "name": "python3"
  },
  "language_info": {
   "codemirror_mode": {
    "name": "ipython",
    "version": 3
   },
   "file_extension": ".py",
   "mimetype": "text/x-python",
   "name": "python",
   "nbconvert_exporter": "python",
   "pygments_lexer": "ipython3",
   "version": "3.8.16"
  }
 },
 "nbformat": 4,
 "nbformat_minor": 5
}
