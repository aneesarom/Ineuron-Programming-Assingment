{
 "cells": [
  {
   "cell_type": "markdown",
   "id": "6e10c134",
   "metadata": {},
   "source": [
    "# 1.\tWrite a Python program to find sum of elements in list?"
   ]
  },
  {
   "cell_type": "code",
   "execution_count": 7,
   "id": "d042a3a2",
   "metadata": {},
   "outputs": [],
   "source": [
    "def sum_of_list(li):\n",
    "    result = 0\n",
    "    for i in li:\n",
    "        result += i\n",
    "    return result"
   ]
  },
  {
   "cell_type": "code",
   "execution_count": 8,
   "id": "729d6c05",
   "metadata": {},
   "outputs": [
    {
     "data": {
      "text/plain": [
       "1807.3"
      ]
     },
     "execution_count": 8,
     "metadata": {},
     "output_type": "execute_result"
    }
   ],
   "source": [
    "li = [7, 3, 4, 999, 2.3, 11, 781]\n",
    "sum_of_list(li)"
   ]
  },
  {
   "cell_type": "markdown",
   "id": "0fcf0314",
   "metadata": {},
   "source": [
    "# 2.\tWrite a Python program to  Multiply all numbers in the list?"
   ]
  },
  {
   "cell_type": "code",
   "execution_count": 11,
   "id": "d7507648",
   "metadata": {},
   "outputs": [],
   "source": [
    "def multiply_list(li):\n",
    "    result = 1\n",
    "    for i in li:\n",
    "        result *= i\n",
    "    return round(result, 2)"
   ]
  },
  {
   "cell_type": "code",
   "execution_count": 12,
   "id": "73eff51f",
   "metadata": {},
   "outputs": [
    {
     "data": {
      "text/plain": [
       "1658121418.8"
      ]
     },
     "execution_count": 12,
     "metadata": {},
     "output_type": "execute_result"
    }
   ],
   "source": [
    "multiply_list(li)"
   ]
  },
  {
   "cell_type": "markdown",
   "id": "4d18be27",
   "metadata": {},
   "source": [
    "# 3.\tWrite a Python program to find smallest number in a list?"
   ]
  },
  {
   "cell_type": "code",
   "execution_count": 15,
   "id": "41f5f6f0",
   "metadata": {},
   "outputs": [],
   "source": [
    "def smallest_of_list(li):\n",
    "    min = li[0]\n",
    "    for i in li:\n",
    "        if i < min:\n",
    "            min = i\n",
    "    return min"
   ]
  },
  {
   "cell_type": "code",
   "execution_count": 16,
   "id": "bb970ae5",
   "metadata": {},
   "outputs": [
    {
     "data": {
      "text/plain": [
       "2.3"
      ]
     },
     "execution_count": 16,
     "metadata": {},
     "output_type": "execute_result"
    }
   ],
   "source": [
    "smallest_of_list(li)"
   ]
  },
  {
   "cell_type": "markdown",
   "id": "f197f008",
   "metadata": {},
   "source": [
    "# 4.\tWrite a Python program to find largest number in a list?"
   ]
  },
  {
   "cell_type": "code",
   "execution_count": 19,
   "id": "1512d186",
   "metadata": {},
   "outputs": [],
   "source": [
    "def largest_of_list(li):\n",
    "    max = li[0]\n",
    "    for i in li:\n",
    "        if i > max:\n",
    "            max = i\n",
    "    return max"
   ]
  },
  {
   "cell_type": "code",
   "execution_count": 20,
   "id": "60d10acc",
   "metadata": {},
   "outputs": [
    {
     "data": {
      "text/plain": [
       "999"
      ]
     },
     "execution_count": 20,
     "metadata": {},
     "output_type": "execute_result"
    }
   ],
   "source": [
    "largest_of_list(li)"
   ]
  },
  {
   "cell_type": "markdown",
   "id": "d6f987d2",
   "metadata": {},
   "source": [
    "# 5.\tWrite a Python program to find second largest number in a list?"
   ]
  },
  {
   "cell_type": "code",
   "execution_count": 29,
   "id": "c7623990",
   "metadata": {},
   "outputs": [],
   "source": [
    "def second_largest_of_list(li):\n",
    "    max = li[0]\n",
    "    lis = li.copy()\n",
    "    for i in li:\n",
    "        if i > max:\n",
    "            max = i\n",
    "    lis = list(filter((max).__ne__, lis))\n",
    "    \n",
    "    max = lis[0]\n",
    "    for i in lis:\n",
    "        if i > max:\n",
    "            max = i\n",
    "    return max"
   ]
  },
  {
   "cell_type": "code",
   "execution_count": 32,
   "id": "8114bab6",
   "metadata": {},
   "outputs": [],
   "source": [
    "li = [10, 2, 4, 9, 23, 8, 0]"
   ]
  },
  {
   "cell_type": "code",
   "execution_count": 33,
   "id": "fe01c757",
   "metadata": {},
   "outputs": [
    {
     "data": {
      "text/plain": [
       "10"
      ]
     },
     "execution_count": 33,
     "metadata": {},
     "output_type": "execute_result"
    }
   ],
   "source": [
    "second_largest_of_list(li)"
   ]
  },
  {
   "cell_type": "code",
   "execution_count": 36,
   "id": "6409584a",
   "metadata": {},
   "outputs": [
    {
     "data": {
      "text/plain": [
       "10"
      ]
     },
     "execution_count": 36,
     "metadata": {},
     "output_type": "execute_result"
    }
   ],
   "source": [
    "import heapq\n",
    "\n",
    "heapq.nlargest(2, li)[-1] #another way"
   ]
  },
  {
   "cell_type": "markdown",
   "id": "a0df40c7",
   "metadata": {},
   "source": [
    "# 6.\tWrite a Python program to find N largest elements from a list?"
   ]
  },
  {
   "cell_type": "code",
   "execution_count": 37,
   "id": "1dceeb9c",
   "metadata": {},
   "outputs": [
    {
     "data": {
      "text/plain": [
       "9"
      ]
     },
     "execution_count": 37,
     "metadata": {},
     "output_type": "execute_result"
    }
   ],
   "source": [
    "import heapq\n",
    "\n",
    "heapq.nlargest(3, li)[-1]"
   ]
  },
  {
   "cell_type": "markdown",
   "id": "0137c07a",
   "metadata": {},
   "source": [
    "# 7.\tWrite a Python program to print even numbers in a list?"
   ]
  },
  {
   "cell_type": "code",
   "execution_count": 38,
   "id": "85815f4e",
   "metadata": {},
   "outputs": [],
   "source": [
    "def even_number_in_list(li):\n",
    "    for i in li:\n",
    "        if i%2 == 0:\n",
    "            print(i)"
   ]
  },
  {
   "cell_type": "code",
   "execution_count": 39,
   "id": "b006012b",
   "metadata": {},
   "outputs": [
    {
     "name": "stdout",
     "output_type": "stream",
     "text": [
      "10\n",
      "2\n",
      "4\n",
      "8\n",
      "0\n"
     ]
    }
   ],
   "source": [
    "even_number_in_list(li)"
   ]
  },
  {
   "cell_type": "markdown",
   "id": "49636716",
   "metadata": {},
   "source": [
    "# 8.\tWrite a Python program to print odd numbers in a List?"
   ]
  },
  {
   "cell_type": "code",
   "execution_count": 40,
   "id": "7461648b",
   "metadata": {},
   "outputs": [],
   "source": [
    "def odd_number_in_list(li):\n",
    "    for i in li:\n",
    "        if i%2 == 1:\n",
    "            print(i)"
   ]
  },
  {
   "cell_type": "code",
   "execution_count": 41,
   "id": "00ee3124",
   "metadata": {},
   "outputs": [
    {
     "name": "stdout",
     "output_type": "stream",
     "text": [
      "9\n",
      "23\n"
     ]
    }
   ],
   "source": [
    "odd_number_in_list(li)"
   ]
  },
  {
   "cell_type": "markdown",
   "id": "7315fdbe",
   "metadata": {},
   "source": [
    "# 9.\tWrite a Python program to Remove empty List from List?"
   ]
  },
  {
   "cell_type": "code",
   "execution_count": 48,
   "id": "5036226a",
   "metadata": {},
   "outputs": [],
   "source": [
    "li = [12, 12, 15, 13, 10, [], 9, [], 99, []]"
   ]
  },
  {
   "cell_type": "code",
   "execution_count": 49,
   "id": "3d890da2",
   "metadata": {},
   "outputs": [],
   "source": [
    "def remove_empty_in_list(li):\n",
    "    lis = li.copy()\n",
    "    for i in lis:\n",
    "        if not i:\n",
    "            li.remove(i)         \n",
    "    return li"
   ]
  },
  {
   "cell_type": "code",
   "execution_count": 50,
   "id": "90cd798c",
   "metadata": {},
   "outputs": [
    {
     "data": {
      "text/plain": [
       "[12, 12, 15, 13, 10, 9, 99]"
      ]
     },
     "execution_count": 50,
     "metadata": {},
     "output_type": "execute_result"
    }
   ],
   "source": [
    "remove_empty_in_list(li)"
   ]
  },
  {
   "cell_type": "markdown",
   "id": "58c2a1e2",
   "metadata": {},
   "source": [
    "# 10.\tWrite a Python program to Cloning or Copying a list?"
   ]
  },
  {
   "cell_type": "code",
   "execution_count": 51,
   "id": "309e07f8",
   "metadata": {},
   "outputs": [
    {
     "name": "stdout",
     "output_type": "stream",
     "text": [
      "[12, 12, 15, 13, 10, 9, 99] [12, 12, 15, 13, 10, 9, 99]\n"
     ]
    }
   ],
   "source": [
    "import copy\n",
    "deep_copy = copy.deepcopy(li)\n",
    "print(li, deep_copy)"
   ]
  },
  {
   "cell_type": "markdown",
   "id": "a613f4c7",
   "metadata": {},
   "source": [
    "# 11.\tWrite a Python program to Count occurrences of an element in a list?"
   ]
  },
  {
   "cell_type": "code",
   "execution_count": 52,
   "id": "43783ba3",
   "metadata": {},
   "outputs": [
    {
     "data": {
      "text/plain": [
       "2"
      ]
     },
     "execution_count": 52,
     "metadata": {},
     "output_type": "execute_result"
    }
   ],
   "source": [
    "li = [12, 12, 15, 13, 10, 9, 2, 22, 34, 13, 11, 34]\n",
    "\n",
    "li.count(13)"
   ]
  },
  {
   "cell_type": "code",
   "execution_count": null,
   "id": "cb691d41",
   "metadata": {},
   "outputs": [],
   "source": []
  }
 ],
 "metadata": {
  "kernelspec": {
   "display_name": "Python 3 (ipykernel)",
   "language": "python",
   "name": "python3"
  },
  "language_info": {
   "codemirror_mode": {
    "name": "ipython",
    "version": 3
   },
   "file_extension": ".py",
   "mimetype": "text/x-python",
   "name": "python",
   "nbconvert_exporter": "python",
   "pygments_lexer": "ipython3",
   "version": "3.8.16"
  }
 },
 "nbformat": 4,
 "nbformat_minor": 5
}
