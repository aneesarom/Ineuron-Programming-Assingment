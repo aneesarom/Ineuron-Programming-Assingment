{
 "cells": [
  {
   "cell_type": "markdown",
   "id": "0c666243",
   "metadata": {},
   "source": [
    "# 1.\tWrite a Python program to Extract Unique values dictionary values?"
   ]
  },
  {
   "cell_type": "code",
   "execution_count": 27,
   "id": "d5ca6936",
   "metadata": {},
   "outputs": [],
   "source": [
    "di = {\n",
    "    \"hospital\": 120,\n",
    "    \"school\": 200,\n",
    "    \"animal\": 1000\n",
    "}"
   ]
  },
  {
   "cell_type": "code",
   "execution_count": 28,
   "id": "531a77be",
   "metadata": {},
   "outputs": [],
   "source": [
    "di_1 = {\n",
    "    \"cellphone\": 122,\n",
    "    \"school\": 300,\n",
    "    \"computer\": 800\n",
    "}"
   ]
  },
  {
   "cell_type": "code",
   "execution_count": 29,
   "id": "8c927f19",
   "metadata": {},
   "outputs": [
    {
     "data": {
      "text/plain": [
       "120"
      ]
     },
     "execution_count": 29,
     "metadata": {},
     "output_type": "execute_result"
    }
   ],
   "source": [
    "di[\"hospital\"]"
   ]
  },
  {
   "cell_type": "code",
   "execution_count": 30,
   "id": "c5bb5521",
   "metadata": {},
   "outputs": [
    {
     "data": {
      "text/plain": [
       "1000"
      ]
     },
     "execution_count": 30,
     "metadata": {},
     "output_type": "execute_result"
    }
   ],
   "source": [
    "di[\"animal\"]"
   ]
  },
  {
   "cell_type": "markdown",
   "id": "0d1beffe",
   "metadata": {},
   "source": [
    "# 2.\tWrite a Python program to find the sum of all items in a dictionary?"
   ]
  },
  {
   "cell_type": "code",
   "execution_count": 31,
   "id": "eccc6da7",
   "metadata": {},
   "outputs": [],
   "source": [
    "def sum_of_values(di):\n",
    "    return sum(di.values())"
   ]
  },
  {
   "cell_type": "code",
   "execution_count": 32,
   "id": "da38ac34",
   "metadata": {},
   "outputs": [
    {
     "data": {
      "text/plain": [
       "1320"
      ]
     },
     "execution_count": 32,
     "metadata": {},
     "output_type": "execute_result"
    }
   ],
   "source": [
    "sum_of_values(di)"
   ]
  },
  {
   "cell_type": "markdown",
   "id": "97574f3e",
   "metadata": {},
   "source": [
    "# 3.\tWrite a Python program to Merging two Dictionaries?"
   ]
  },
  {
   "cell_type": "code",
   "execution_count": 39,
   "id": "9e750d1e",
   "metadata": {},
   "outputs": [],
   "source": [
    "def merge_dict(a, b):\n",
    "    \"\"\"Dict value can be string or int so when i merge it if both keys are same it will ignore from second one\"\"\"\n",
    "    for key, value in b.items():\n",
    "        a.setdefault(key, value)\n",
    "    return a"
   ]
  },
  {
   "cell_type": "code",
   "execution_count": 40,
   "id": "67ac15fe",
   "metadata": {},
   "outputs": [
    {
     "data": {
      "text/plain": [
       "{'hospital': 120,\n",
       " 'school': 200,\n",
       " 'animal': 1000,\n",
       " 'cellphone': 122,\n",
       " 'computer': 800}"
      ]
     },
     "execution_count": 40,
     "metadata": {},
     "output_type": "execute_result"
    }
   ],
   "source": [
    "merge_dict(di, di_1)"
   ]
  },
  {
   "cell_type": "markdown",
   "id": "ff426371",
   "metadata": {},
   "source": [
    "# 4.\tWrite a Python program to convert key-values list to flat dictionary?"
   ]
  },
  {
   "cell_type": "code",
   "execution_count": 44,
   "id": "2016db87",
   "metadata": {},
   "outputs": [
    {
     "data": {
      "text/plain": [
       "{'mech': 200, 'civil': 100, 'history': 200, 'computer_Science': 300}"
      ]
     },
     "execution_count": 44,
     "metadata": {},
     "output_type": "execute_result"
    }
   ],
   "source": [
    "key_list = [\"mech\", \"civil\", \"history\", \"computer_Science\"]\n",
    "value_list = [200, 100, 200, 300]\n",
    "\n",
    "dict(zip(key_list, value_list))"
   ]
  },
  {
   "cell_type": "markdown",
   "id": "7c68e4fb",
   "metadata": {},
   "source": [
    "# 5.\tWrite a Python program to insertion at the beginning in OrderedDict?"
   ]
  },
  {
   "cell_type": "code",
   "execution_count": 69,
   "id": "2d74a06e",
   "metadata": {},
   "outputs": [
    {
     "name": "stdout",
     "output_type": "stream",
     "text": [
      "{'cat': 31, 'apple': 45, 'ball': 22}\n"
     ]
    }
   ],
   "source": [
    "my_dict = {'apple': 45, 'ball': 22}\n",
    "\n",
    "# list of tuples\n",
    "dict_items = list(my_dict.items())\n",
    "\n",
    "# insert new value\n",
    "dict_items[0:0]= [('cat', 31)]\n",
    "\n",
    "# list of tuples back into a dictionary\n",
    "my_dict = dict(dict_items)\n",
    "\n",
    "print(my_dict)"
   ]
  },
  {
   "cell_type": "markdown",
   "id": "bcbbc5a0",
   "metadata": {},
   "source": [
    "# 6.\tWrite a Python program to check order of character in string using OrderedDict()?"
   ]
  },
  {
   "cell_type": "code",
   "execution_count": 74,
   "id": "288b1564",
   "metadata": {},
   "outputs": [
    {
     "name": "stdout",
     "output_type": "stream",
     "text": [
      "The pattern 'og' is present in the string 'python programming'.\n"
     ]
    }
   ],
   "source": [
    "from collections import OrderedDict\n",
    "\n",
    "def check_order(string, pattern):\n",
    "    \n",
    "    dict_1 = OrderedDict.fromkeys(string, 0)\n",
    "\n",
    "    for char in string:\n",
    "        dict_1[char] += 1\n",
    "\n",
    "    dict_2 = OrderedDict.fromkeys(pattern, 0)\n",
    "\n",
    "    for char in pattern:\n",
    "        dict_2[char] += 1\n",
    "\n",
    "    for key in dict_2:\n",
    "        if key not in dict_1:\n",
    "            return False\n",
    "        if dict_1[key] < dict_2[key]:\n",
    "            return False\n",
    "    return True\n",
    "\n",
    "string = \"python programming\"\n",
    "pattern = \"og\"\n",
    "\n",
    "if check_order(string, pattern):\n",
    "    print(f\"The pattern '{pattern}' is present in the string '{string}'.\")\n",
    "else:\n",
    "    print(f\"The pattern '{pattern}' is not present in the string '{string}'.\")\n"
   ]
  },
  {
   "cell_type": "markdown",
   "id": "6b3871d0",
   "metadata": {},
   "source": [
    "# 7.\tWrite a Python program to sort Python Dictionaries by Key or Value?"
   ]
  },
  {
   "cell_type": "code",
   "execution_count": 134,
   "id": "f29ee60e",
   "metadata": {},
   "outputs": [
    {
     "data": {
      "text/plain": [
       "{'ece': 12, 'mech': 200, 'civil': 100, 'history': 200, 'computer_Science': 300}"
      ]
     },
     "execution_count": 134,
     "metadata": {},
     "output_type": "execute_result"
    }
   ],
   "source": [
    "dict_1"
   ]
  },
  {
   "cell_type": "code",
   "execution_count": 135,
   "id": "f8791468",
   "metadata": {},
   "outputs": [],
   "source": [
    "def sort_by_key(dict_1):\n",
    "    keys = list(dict_1.keys())\n",
    "    keys.sort()\n",
    "    new_dict = {i:dict_1[i] for i in keys}\n",
    "    return new_dict"
   ]
  },
  {
   "cell_type": "code",
   "execution_count": 136,
   "id": "5c5fc4f2",
   "metadata": {},
   "outputs": [
    {
     "data": {
      "text/plain": [
       "{'civil': 100, 'computer_Science': 300, 'ece': 12, 'history': 200, 'mech': 200}"
      ]
     },
     "execution_count": 136,
     "metadata": {},
     "output_type": "execute_result"
    }
   ],
   "source": [
    "sort_by_key(dict_1)"
   ]
  },
  {
   "cell_type": "code",
   "execution_count": 137,
   "id": "3d67c985",
   "metadata": {},
   "outputs": [],
   "source": [
    "import numpy as np\n",
    "\n",
    "def sort_by_value(dict_1):\n",
    "    keys = list(dict_1.keys())\n",
    "    values = list(dict_1.values())\n",
    "    actual_index_loc = np.argsort(values)\n",
    "    sorted_dict = {keys[i]: values[i] for i in actual_index_loc}\n",
    "    return sorted_dict"
   ]
  },
  {
   "cell_type": "code",
   "execution_count": 138,
   "id": "9bb822c9",
   "metadata": {},
   "outputs": [
    {
     "data": {
      "text/plain": [
       "{'ece': 12, 'civil': 100, 'mech': 200, 'history': 200, 'computer_Science': 300}"
      ]
     },
     "execution_count": 138,
     "metadata": {},
     "output_type": "execute_result"
    }
   ],
   "source": [
    "sort_by_value(dict_1)"
   ]
  }
 ],
 "metadata": {
  "kernelspec": {
   "display_name": "Python 3 (ipykernel)",
   "language": "python",
   "name": "python3"
  },
  "language_info": {
   "codemirror_mode": {
    "name": "ipython",
    "version": 3
   },
   "file_extension": ".py",
   "mimetype": "text/x-python",
   "name": "python",
   "nbconvert_exporter": "python",
   "pygments_lexer": "ipython3",
   "version": "3.8.16"
  }
 },
 "nbformat": 4,
 "nbformat_minor": 5
}
