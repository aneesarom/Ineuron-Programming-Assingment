{
 "cells": [
  {
   "cell_type": "markdown",
   "id": "c8d61295",
   "metadata": {},
   "source": [
    "# 1.\tWrite a Python Program to find sum of array?"
   ]
  },
  {
   "cell_type": "code",
   "execution_count": 1,
   "id": "122c3793",
   "metadata": {},
   "outputs": [],
   "source": [
    "def sum(li):\n",
    "    result = 0\n",
    "    for i in li:\n",
    "        result += i\n",
    "    return result"
   ]
  },
  {
   "cell_type": "code",
   "execution_count": 2,
   "id": "80cf736e",
   "metadata": {},
   "outputs": [
    {
     "data": {
      "text/plain": [
       "10"
      ]
     },
     "execution_count": 2,
     "metadata": {},
     "output_type": "execute_result"
    }
   ],
   "source": [
    "sum([1, 2, 3, 4])"
   ]
  },
  {
   "cell_type": "markdown",
   "id": "082b3e31",
   "metadata": {},
   "source": [
    "# 2.\tWrite a Python Program to find largest element in an array?"
   ]
  },
  {
   "cell_type": "code",
   "execution_count": 3,
   "id": "bd1cfe1e",
   "metadata": {},
   "outputs": [],
   "source": [
    "def max_of_list(li):\n",
    "    max = 0\n",
    "    for i in li:\n",
    "        if i > max:\n",
    "            max = i\n",
    "    return max"
   ]
  },
  {
   "cell_type": "code",
   "execution_count": 6,
   "id": "762ace3e",
   "metadata": {},
   "outputs": [
    {
     "data": {
      "text/plain": [
       "31.5"
      ]
     },
     "execution_count": 6,
     "metadata": {},
     "output_type": "execute_result"
    }
   ],
   "source": [
    "max_of_list([1, 21, 31.5, 4])"
   ]
  },
  {
   "cell_type": "markdown",
   "id": "a34654b5",
   "metadata": {},
   "source": [
    "# 3.\tWrite a Python Program for array rotation?"
   ]
  },
  {
   "cell_type": "code",
   "execution_count": 11,
   "id": "e6835a37",
   "metadata": {},
   "outputs": [
    {
     "data": {
      "text/plain": [
       "[2, 3, 4, 5, 3, 1]"
      ]
     },
     "execution_count": 11,
     "metadata": {},
     "output_type": "execute_result"
    }
   ],
   "source": [
    "def rotate_array(li, rot):\n",
    "    first_li = li[rot:]\n",
    "    second_li = li[:rot]\n",
    "    return first_li + second_li\n",
    "\n",
    "arr = [3, 1, 2, 3, 4, 5]\n",
    "d = 2\n",
    "rotate_array(arr, d)"
   ]
  },
  {
   "cell_type": "markdown",
   "id": "929f11ef",
   "metadata": {},
   "source": [
    "# 4.\tWrite a Python Program to Split the array and add the first part to the end?"
   ]
  },
  {
   "cell_type": "code",
   "execution_count": 20,
   "id": "b2ba879e",
   "metadata": {},
   "outputs": [],
   "source": [
    "def split_and_add(li, split_at):\n",
    "    return li[split_at:] + li[:split_at]"
   ]
  },
  {
   "cell_type": "code",
   "execution_count": 21,
   "id": "7d576523",
   "metadata": {},
   "outputs": [
    {
     "data": {
      "text/plain": [
       "[89, 9, 9.6, 70, 24, 2.3]"
      ]
     },
     "execution_count": 21,
     "metadata": {},
     "output_type": "execute_result"
    }
   ],
   "source": [
    "split_and_add([70, 24, 2.3, 89, 9, 9.6], 3)"
   ]
  },
  {
   "cell_type": "markdown",
   "id": "5119f51e",
   "metadata": {},
   "source": [
    "# 5.\tWrite a Python Program to check if given array is Monotonic?"
   ]
  },
  {
   "cell_type": "code",
   "execution_count": 26,
   "id": "b95e54e7",
   "metadata": {},
   "outputs": [],
   "source": [
    "def check_monotonic(li):\n",
    "    x, y = [], []\n",
    "    x.extend(li)\n",
    "    y.extend(li)\n",
    "    x.sort()\n",
    "    y.sort(reverse=True)\n",
    "    if x == li or y == li:\n",
    "        print(\"monotonic\")\n",
    "    else:\n",
    "        print(x)\n",
    "        print(y)\n",
    "        print(\"not monotonoic\")"
   ]
  },
  {
   "cell_type": "code",
   "execution_count": 30,
   "id": "c5b0a8d0",
   "metadata": {},
   "outputs": [
    {
     "name": "stdout",
     "output_type": "stream",
     "text": [
      "monotonic\n"
     ]
    }
   ],
   "source": [
    "li = [4, 4, 4, 4]\n",
    "check_monotonic(li)"
   ]
  },
  {
   "cell_type": "code",
   "execution_count": null,
   "id": "80351882",
   "metadata": {},
   "outputs": [],
   "source": []
  }
 ],
 "metadata": {
  "kernelspec": {
   "display_name": "Python 3 (ipykernel)",
   "language": "python",
   "name": "python3"
  },
  "language_info": {
   "codemirror_mode": {
    "name": "ipython",
    "version": 3
   },
   "file_extension": ".py",
   "mimetype": "text/x-python",
   "name": "python",
   "nbconvert_exporter": "python",
   "pygments_lexer": "ipython3",
   "version": "3.8.16"
  }
 },
 "nbformat": 4,
 "nbformat_minor": 5
}
