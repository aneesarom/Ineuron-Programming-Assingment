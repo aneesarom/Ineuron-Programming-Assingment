{
 "cells": [
  {
   "cell_type": "markdown",
   "id": "285fdbb6",
   "metadata": {},
   "source": [
    "# Question1\n",
    "\n",
    "Create a function that takes a string and returns a string in which each character is repeated once.\n",
    "\n",
    "Examples\n",
    "\n",
    "double_char(\"String\") ➞ \"SSttrriinngg\"\n",
    "\n",
    "double_char(\"Hello World!\") ➞ \"HHeelllloo  WWoorrlldd!!\"\n",
    "\n",
    "double_char(\"1234!_ \") ➞ \"11223344!!__  \"\n"
   ]
  },
  {
   "cell_type": "code",
   "execution_count": 1,
   "id": "9ed2c692",
   "metadata": {},
   "outputs": [],
   "source": [
    "def double_char(string):\n",
    "    new_string = \"\"\n",
    "    for i in string:\n",
    "        new_string += i*2\n",
    "    return new_string"
   ]
  },
  {
   "cell_type": "code",
   "execution_count": 2,
   "id": "653b1448",
   "metadata": {},
   "outputs": [
    {
     "data": {
      "text/plain": [
       "'SSttrriinngg'"
      ]
     },
     "execution_count": 2,
     "metadata": {},
     "output_type": "execute_result"
    }
   ],
   "source": [
    "double_char(\"String\")"
   ]
  },
  {
   "cell_type": "code",
   "execution_count": 3,
   "id": "e98ef1f7",
   "metadata": {},
   "outputs": [
    {
     "data": {
      "text/plain": [
       "'HHeelllloo  WWoorrlldd!!'"
      ]
     },
     "execution_count": 3,
     "metadata": {},
     "output_type": "execute_result"
    }
   ],
   "source": [
    "double_char(\"Hello World!\")"
   ]
  },
  {
   "cell_type": "code",
   "execution_count": 4,
   "id": "35cfffb0",
   "metadata": {},
   "outputs": [
    {
     "data": {
      "text/plain": [
       "'11223344!!__  '"
      ]
     },
     "execution_count": 4,
     "metadata": {},
     "output_type": "execute_result"
    }
   ],
   "source": [
    "double_char(\"1234!_ \")"
   ]
  },
  {
   "cell_type": "markdown",
   "id": "96ae5785",
   "metadata": {},
   "source": [
    "# Question2\n",
    "Create a function that reverses a boolean value and returns the string \"boolean expected\" if another variable type is given.\n",
    "Examples\n",
    "reverse(True) ➞ False\n",
    "\n",
    "reverse(False) ➞ True\n",
    "\n",
    "reverse(0) ➞ \"boolean expected\"\n",
    "\n",
    "reverse(None) ➞ \"boolean expected\"\n"
   ]
  },
  {
   "cell_type": "code",
   "execution_count": 5,
   "id": "6a470a92",
   "metadata": {},
   "outputs": [],
   "source": [
    "def reverse(boolean_value):\n",
    "    if isinstance(boolean_value, bool):\n",
    "        if boolean_value:\n",
    "            return False\n",
    "        elif not boolean_value:\n",
    "            return True\n",
    "    else:\n",
    "        return \"boolean expected\""
   ]
  },
  {
   "cell_type": "code",
   "execution_count": 6,
   "id": "f31a6dac",
   "metadata": {},
   "outputs": [
    {
     "data": {
      "text/plain": [
       "False"
      ]
     },
     "execution_count": 6,
     "metadata": {},
     "output_type": "execute_result"
    }
   ],
   "source": [
    "reverse(True)"
   ]
  },
  {
   "cell_type": "code",
   "execution_count": 7,
   "id": "7b34c675",
   "metadata": {},
   "outputs": [
    {
     "data": {
      "text/plain": [
       "True"
      ]
     },
     "execution_count": 7,
     "metadata": {},
     "output_type": "execute_result"
    }
   ],
   "source": [
    "reverse(False)"
   ]
  },
  {
   "cell_type": "code",
   "execution_count": 8,
   "id": "d41d251b",
   "metadata": {},
   "outputs": [
    {
     "data": {
      "text/plain": [
       "'boolean expected'"
      ]
     },
     "execution_count": 8,
     "metadata": {},
     "output_type": "execute_result"
    }
   ],
   "source": [
    "reverse(0)"
   ]
  },
  {
   "cell_type": "code",
   "execution_count": 9,
   "id": "9772f4f4",
   "metadata": {},
   "outputs": [
    {
     "data": {
      "text/plain": [
       "'boolean expected'"
      ]
     },
     "execution_count": 9,
     "metadata": {},
     "output_type": "execute_result"
    }
   ],
   "source": [
    "reverse(None)"
   ]
  },
  {
   "cell_type": "markdown",
   "id": "112b6dbd",
   "metadata": {},
   "source": [
    "# Question3\n",
    "```\n",
    "Create a function that returns the thickness (in meters) of a piece of paper after folding it n number of times. The paper starts off with a thickness of 0.5mm.\n",
    "\n",
    "Examples\n",
    "\n",
    "num_layers(1) ➞ \"0.001m\"\n",
    "Paper folded once is 1mm (equal to 0.001m)\n",
    "\n",
    "num_layers(4) ➞ \"0.008m\"\n",
    "Paper folded 4 times is 8mm (equal to 0.008m)\n",
    "\n",
    "num_layers(21) ➞ \"1048.576m\"\n",
    "Paper folded 21 times is 1048576mm (equal to 1048.576m)\n",
    "```"
   ]
  },
  {
   "cell_type": "code",
   "execution_count": 11,
   "id": "d5cf7f51",
   "metadata": {},
   "outputs": [],
   "source": [
    "#2(power n * t)"
   ]
  },
  {
   "cell_type": "code",
   "execution_count": 26,
   "id": "ad066a4a",
   "metadata": {},
   "outputs": [],
   "source": [
    "def num_layers(num, thick=0.0005):\n",
    "    calculate = (2**num)*thick\n",
    "    return f\"Paper folded {num} is {calculate*1000}mm (equal to {calculate}m)\""
   ]
  },
  {
   "cell_type": "code",
   "execution_count": 27,
   "id": "3fe41aaa",
   "metadata": {},
   "outputs": [
    {
     "data": {
      "text/plain": [
       "'Paper folded 1 is 1.0mm (equal to 0.001m)'"
      ]
     },
     "execution_count": 27,
     "metadata": {},
     "output_type": "execute_result"
    }
   ],
   "source": [
    "num_layers(1)"
   ]
  },
  {
   "cell_type": "code",
   "execution_count": 28,
   "id": "5bcf9b3f",
   "metadata": {},
   "outputs": [
    {
     "data": {
      "text/plain": [
       "'Paper folded 4 is 8.0mm (equal to 0.008m)'"
      ]
     },
     "execution_count": 28,
     "metadata": {},
     "output_type": "execute_result"
    }
   ],
   "source": [
    "num_layers(4)"
   ]
  },
  {
   "cell_type": "code",
   "execution_count": 29,
   "id": "28d9f5a8",
   "metadata": {},
   "outputs": [
    {
     "data": {
      "text/plain": [
       "'Paper folded 21 is 1048576.0mm (equal to 1048.576m)'"
      ]
     },
     "execution_count": 29,
     "metadata": {},
     "output_type": "execute_result"
    }
   ],
   "source": [
    "num_layers(21)"
   ]
  },
  {
   "cell_type": "markdown",
   "id": "5c12460a",
   "metadata": {},
   "source": [
    "# Question 4\n",
    "```\n",
    "Create a function that takes a single string as argument and returns an ordered list containing the indices of all capital letters in the string.\n",
    "\n",
    "Examples\n",
    "\n",
    "index_of_caps(\"eDaBiT\") ➞ [1, 3, 5]\n",
    "\n",
    "index_of_caps(\"eQuINoX\") ➞ [1, 3, 4, 6]\n",
    "\n",
    "index_of_caps(\"determine\") ➞ []\n",
    "\n",
    "index_of_caps(\"STRIKE\") ➞ [0, 1, 2, 3, 4, 5]\n",
    "\n",
    "index_of_caps(\"sUn\") ➞ [1]\n",
    "```"
   ]
  },
  {
   "cell_type": "code",
   "execution_count": 52,
   "id": "73539a79",
   "metadata": {},
   "outputs": [],
   "source": [
    "def index_of_caps(string):\n",
    "    li = []\n",
    "    for i, char in enumerate(string):\n",
    "        if char.isupper():\n",
    "            li.append(i)\n",
    "    return li"
   ]
  },
  {
   "cell_type": "code",
   "execution_count": 53,
   "id": "4a277d7f",
   "metadata": {},
   "outputs": [
    {
     "data": {
      "text/plain": [
       "[1, 3, 5]"
      ]
     },
     "execution_count": 53,
     "metadata": {},
     "output_type": "execute_result"
    }
   ],
   "source": [
    "index_of_caps(\"eDaBiT\")"
   ]
  },
  {
   "cell_type": "code",
   "execution_count": 54,
   "id": "c145f0ec",
   "metadata": {},
   "outputs": [
    {
     "data": {
      "text/plain": [
       "[1, 3, 4, 6]"
      ]
     },
     "execution_count": 54,
     "metadata": {},
     "output_type": "execute_result"
    }
   ],
   "source": [
    "index_of_caps(\"eQuINoX\") "
   ]
  },
  {
   "cell_type": "code",
   "execution_count": 55,
   "id": "d3acd5b6",
   "metadata": {},
   "outputs": [
    {
     "data": {
      "text/plain": [
       "[]"
      ]
     },
     "execution_count": 55,
     "metadata": {},
     "output_type": "execute_result"
    }
   ],
   "source": [
    "index_of_caps(\"determine\")"
   ]
  },
  {
   "cell_type": "code",
   "execution_count": 56,
   "id": "1d225771",
   "metadata": {},
   "outputs": [
    {
     "data": {
      "text/plain": [
       "[0, 1, 2, 3, 4, 5]"
      ]
     },
     "execution_count": 56,
     "metadata": {},
     "output_type": "execute_result"
    }
   ],
   "source": [
    "index_of_caps(\"STRIKE\")"
   ]
  },
  {
   "cell_type": "code",
   "execution_count": 57,
   "id": "4e7eec52",
   "metadata": {},
   "outputs": [
    {
     "data": {
      "text/plain": [
       "[1]"
      ]
     },
     "execution_count": 57,
     "metadata": {},
     "output_type": "execute_result"
    }
   ],
   "source": [
    "index_of_caps(\"sUn\")"
   ]
  },
  {
   "cell_type": "markdown",
   "id": "d73614b2",
   "metadata": {},
   "source": [
    "# Question5\n",
    "```\n",
    "Using list comprehensions, create a function that finds all even numbers from 1 to the given number.\n",
    "\n",
    "Examples\n",
    "\n",
    "find_even_nums(8) ➞ [2, 4, 6, 8]\n",
    "\n",
    "find_even_nums(4) ➞ [2, 4]\n",
    "\n",
    "find_even_nums(2) ➞ [2]\n",
    "```"
   ]
  },
  {
   "cell_type": "code",
   "execution_count": 58,
   "id": "37541771",
   "metadata": {},
   "outputs": [],
   "source": [
    "def find_even_nums(max):\n",
    "    return [i for i in range(1, max+1) if i%2==0]"
   ]
  },
  {
   "cell_type": "code",
   "execution_count": 59,
   "id": "d7e05e57",
   "metadata": {},
   "outputs": [
    {
     "data": {
      "text/plain": [
       "[2, 4, 6, 8]"
      ]
     },
     "execution_count": 59,
     "metadata": {},
     "output_type": "execute_result"
    }
   ],
   "source": [
    "find_even_nums(8)"
   ]
  },
  {
   "cell_type": "code",
   "execution_count": 60,
   "id": "d8df278a",
   "metadata": {},
   "outputs": [
    {
     "data": {
      "text/plain": [
       "[2, 4]"
      ]
     },
     "execution_count": 60,
     "metadata": {},
     "output_type": "execute_result"
    }
   ],
   "source": [
    "find_even_nums(4)"
   ]
  },
  {
   "cell_type": "code",
   "execution_count": 62,
   "id": "be34c776",
   "metadata": {},
   "outputs": [
    {
     "data": {
      "text/plain": [
       "[2]"
      ]
     },
     "execution_count": 62,
     "metadata": {},
     "output_type": "execute_result"
    }
   ],
   "source": [
    "find_even_nums(2)"
   ]
  },
  {
   "cell_type": "code",
   "execution_count": null,
   "id": "d3a49fdf",
   "metadata": {},
   "outputs": [],
   "source": []
  }
 ],
 "metadata": {
  "kernelspec": {
   "display_name": "Python 3 (ipykernel)",
   "language": "python",
   "name": "python3"
  },
  "language_info": {
   "codemirror_mode": {
    "name": "ipython",
    "version": 3
   },
   "file_extension": ".py",
   "mimetype": "text/x-python",
   "name": "python",
   "nbconvert_exporter": "python",
   "pygments_lexer": "ipython3",
   "version": "3.8.16"
  }
 },
 "nbformat": 4,
 "nbformat_minor": 5
}
