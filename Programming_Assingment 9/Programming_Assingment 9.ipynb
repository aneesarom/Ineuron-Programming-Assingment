{
 "cells": [
  {
   "cell_type": "markdown",
   "id": "e9906292",
   "metadata": {},
   "source": [
    "# 1.\tWrite a Python program to check if the given number is a Disarium Number?"
   ]
  },
  {
   "cell_type": "code",
   "execution_count": 87,
   "id": "69c7a6e9",
   "metadata": {},
   "outputs": [],
   "source": [
    "def disarium_number(number):\n",
    "    if number > 0 and isinstance(number, int):\n",
    "        string_num = str(number)\n",
    "        actual_result = 0\n",
    "        for i, num in enumerate(string_num):\n",
    "            actual_result += int(num)**(i+1)\n",
    "        if actual_result == number:\n",
    "            print(\"Number is disarium\")\n",
    "        else:\n",
    "            print(\"Number is not disarium\")\n",
    "    else:\n",
    "        print(\"Number should be a positive integer\")"
   ]
  },
  {
   "cell_type": "code",
   "execution_count": 90,
   "id": "b1ace247",
   "metadata": {},
   "outputs": [
    {
     "name": "stdout",
     "output_type": "stream",
     "text": [
      "Number is disarium\n"
     ]
    }
   ],
   "source": [
    "disarium_number(175)"
   ]
  },
  {
   "cell_type": "markdown",
   "id": "4cc6410f",
   "metadata": {},
   "source": [
    "# 2.\tWrite a Python program to print all disarium numbers between 1 to 100?"
   ]
  },
  {
   "cell_type": "code",
   "execution_count": 91,
   "id": "f15f31fa",
   "metadata": {},
   "outputs": [],
   "source": [
    "def disarium_interval(min, max):\n",
    "    for number in range(min, max):\n",
    "        string_num = str(number)\n",
    "        actual_result = 0\n",
    "        for i, num in enumerate(string_num):\n",
    "            actual_result += int(num)**(i+1)\n",
    "        if actual_result == number:\n",
    "            print(f\"Number: {string_num} is disarium\")"
   ]
  },
  {
   "cell_type": "code",
   "execution_count": 92,
   "id": "50a7dbd8",
   "metadata": {},
   "outputs": [
    {
     "name": "stdout",
     "output_type": "stream",
     "text": [
      "Number: 1 is disarium\n",
      "Number: 2 is disarium\n",
      "Number: 3 is disarium\n",
      "Number: 4 is disarium\n",
      "Number: 5 is disarium\n",
      "Number: 6 is disarium\n",
      "Number: 7 is disarium\n",
      "Number: 8 is disarium\n",
      "Number: 9 is disarium\n",
      "Number: 89 is disarium\n",
      "Number: 135 is disarium\n",
      "Number: 175 is disarium\n",
      "Number: 518 is disarium\n",
      "Number: 598 is disarium\n",
      "Number: 1306 is disarium\n",
      "Number: 1676 is disarium\n",
      "Number: 2427 is disarium\n"
     ]
    }
   ],
   "source": [
    "disarium_interval(1, 10000)"
   ]
  },
  {
   "cell_type": "markdown",
   "id": "4574f26d",
   "metadata": {},
   "source": [
    "# 3.\tWrite a Python program to check if the given number is Happy Number?"
   ]
  },
  {
   "cell_type": "raw",
   "id": "53526a35",
   "metadata": {},
   "source": [
    "1^2 + 9^2 = 82\n",
    "8^2 + 2^2 = 68\n",
    "6^2 + 8^2 = 100\n",
    "1^2 + 0^2 + 0^2 = 1"
   ]
  },
  {
   "cell_type": "code",
   "execution_count": 93,
   "id": "e199dec8",
   "metadata": {},
   "outputs": [],
   "source": [
    "def happy_number(number):\n",
    "    if number > 0 and isinstance(number, int):\n",
    "        actual_result = 0\n",
    "        string_num = str(number)\n",
    "        string_len = len(string_num)\n",
    "        while string_len >= 2:\n",
    "            actual_result = 0\n",
    "            for i, num in enumerate(string_num):\n",
    "                actual_result += int(num)**2\n",
    "            string_num = str(actual_result)\n",
    "            string_len = len(string_num)\n",
    "            if actual_result < 10:\n",
    "                break\n",
    "        if actual_result == 1:\n",
    "            print(\"Number is happy number\")\n",
    "        else:\n",
    "            print(\"Number is not happy number\")\n",
    "    else:\n",
    "        print(\"Number should be a positive integer\")"
   ]
  },
  {
   "cell_type": "code",
   "execution_count": 94,
   "id": "95458dac",
   "metadata": {},
   "outputs": [
    {
     "name": "stdout",
     "output_type": "stream",
     "text": [
      "Number is happy number\n"
     ]
    }
   ],
   "source": [
    "happy_number(19)"
   ]
  },
  {
   "cell_type": "markdown",
   "id": "6e24dfdc",
   "metadata": {},
   "source": [
    "# 4.\tWrite a Python program to print all happy numbers between 1 and 100?"
   ]
  },
  {
   "cell_type": "code",
   "execution_count": 95,
   "id": "c64ccc50",
   "metadata": {},
   "outputs": [],
   "source": [
    "def happy_number(min, max):\n",
    "    for number in range(min, max):    \n",
    "        actual_result = 0\n",
    "        string_num = str(number)\n",
    "        string_len = len(string_num)\n",
    "        while string_len >= 2:\n",
    "            actual_result = 0\n",
    "            for i, num in enumerate(string_num):\n",
    "                actual_result += int(num)**2\n",
    "            string_num = str(actual_result)\n",
    "            string_len = len(string_num)\n",
    "            if actual_result < 10:\n",
    "                break\n",
    "        if actual_result == 1:\n",
    "            print(f\"{number} is happy number\")"
   ]
  },
  {
   "cell_type": "code",
   "execution_count": 96,
   "id": "55e3fdd8",
   "metadata": {},
   "outputs": [
    {
     "name": "stdout",
     "output_type": "stream",
     "text": [
      "10 is happy number\n",
      "13 is happy number\n",
      "19 is happy number\n",
      "23 is happy number\n",
      "28 is happy number\n",
      "31 is happy number\n",
      "32 is happy number\n",
      "44 is happy number\n",
      "49 is happy number\n",
      "68 is happy number\n",
      "70 is happy number\n",
      "79 is happy number\n",
      "82 is happy number\n",
      "86 is happy number\n",
      "91 is happy number\n",
      "94 is happy number\n",
      "97 is happy number\n"
     ]
    }
   ],
   "source": [
    "happy_number(1, 100)"
   ]
  },
  {
   "cell_type": "markdown",
   "id": "01963532",
   "metadata": {},
   "source": [
    "# 5.\tWrite a Python program to determine whether the given number is a Harshad Number?"
   ]
  },
  {
   "cell_type": "raw",
   "id": "27a62721",
   "metadata": {},
   "source": [
    "For example, the number 18 is a Harshad number in base 10, since 1+8=9 divides 18. Similarly, 21 is a Harshad number in base 10, since 2+1=3 divides 21."
   ]
  },
  {
   "cell_type": "code",
   "execution_count": 100,
   "id": "21b2ba4c",
   "metadata": {},
   "outputs": [],
   "source": [
    "def harshad_number(number):\n",
    "    if number > 0 and isinstance(number, int):\n",
    "        string_num = str(number)\n",
    "        actual_result = 0\n",
    "        for i, num in enumerate(string_num):\n",
    "            actual_result += int(num)\n",
    "        if number%actual_result==0:\n",
    "            print(\"Number is harshad\")\n",
    "        else:\n",
    "            print(\"Number is not harshad\")\n",
    "    else:\n",
    "        print(\"Number should be a positive integer\")"
   ]
  },
  {
   "cell_type": "code",
   "execution_count": 101,
   "id": "9226fce0",
   "metadata": {},
   "outputs": [
    {
     "name": "stdout",
     "output_type": "stream",
     "text": [
      "Number is harshad\n"
     ]
    }
   ],
   "source": [
    "harshad_number(5)"
   ]
  },
  {
   "cell_type": "code",
   "execution_count": 111,
   "id": "67934ed1",
   "metadata": {},
   "outputs": [
    {
     "name": "stdout",
     "output_type": "stream",
     "text": [
      "Number is harshad\n"
     ]
    }
   ],
   "source": [
    "harshad_number(60)"
   ]
  },
  {
   "cell_type": "markdown",
   "id": "0b9c880e",
   "metadata": {},
   "source": [
    "# 6.\tWrite a Python program to print all pronic numbers between 1 and 100?"
   ]
  },
  {
   "cell_type": "code",
   "execution_count": 121,
   "id": "ce32b6a2",
   "metadata": {},
   "outputs": [],
   "source": [
    "def pronic_numbers():\n",
    "    for i in range(1, 100):\n",
    "        product = i * (i+1)\n",
    "        if product <= 100:\n",
    "            print(f\"{product}\")"
   ]
  },
  {
   "cell_type": "code",
   "execution_count": 122,
   "id": "3a3fb528",
   "metadata": {},
   "outputs": [
    {
     "name": "stdout",
     "output_type": "stream",
     "text": [
      "2\n",
      "6\n",
      "12\n",
      "20\n",
      "30\n",
      "42\n",
      "56\n",
      "72\n",
      "90\n"
     ]
    }
   ],
   "source": [
    "pronic_numbers()"
   ]
  },
  {
   "cell_type": "code",
   "execution_count": null,
   "id": "41466b31",
   "metadata": {},
   "outputs": [],
   "source": []
  }
 ],
 "metadata": {
  "kernelspec": {
   "display_name": "Python 3 (ipykernel)",
   "language": "python",
   "name": "python3"
  },
  "language_info": {
   "codemirror_mode": {
    "name": "ipython",
    "version": 3
   },
   "file_extension": ".py",
   "mimetype": "text/x-python",
   "name": "python",
   "nbconvert_exporter": "python",
   "pygments_lexer": "ipython3",
   "version": "3.8.16"
  }
 },
 "nbformat": 4,
 "nbformat_minor": 5
}
