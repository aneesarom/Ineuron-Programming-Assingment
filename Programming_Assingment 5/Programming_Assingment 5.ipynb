{
 "cells": [
  {
   "cell_type": "markdown",
   "id": "faea04b9",
   "metadata": {},
   "source": [
    "# 1.\tWrite a Python Program to Find LCM?"
   ]
  },
  {
   "cell_type": "code",
   "execution_count": 97,
   "id": "62e2545a",
   "metadata": {},
   "outputs": [],
   "source": [
    "def lcm(x, y):\n",
    "    result = 1\n",
    "    num_check = 2\n",
    "    while True:\n",
    "        if x > num_check or y > num_check:\n",
    "            if x % num_check == 0 and y % num_check == 0:\n",
    "                result *= num_check\n",
    "                x = x / num_check\n",
    "                y = y / num_check\n",
    "            else:\n",
    "                num_check += 1\n",
    "        else:\n",
    "            result *= int(x)\n",
    "            result *= int(y)\n",
    "            break\n",
    "    print(result)"
   ]
  },
  {
   "cell_type": "code",
   "execution_count": 103,
   "id": "22b2899d",
   "metadata": {
    "scrolled": false
   },
   "outputs": [
    {
     "name": "stdout",
     "output_type": "stream",
     "text": [
      "72\n"
     ]
    }
   ],
   "source": [
    "lcm(36, 24)"
   ]
  },
  {
   "cell_type": "markdown",
   "id": "44e0756a",
   "metadata": {},
   "source": [
    "# 2.\tWrite a Python Program to Find HCF?"
   ]
  },
  {
   "cell_type": "code",
   "execution_count": 107,
   "id": "22d1ca55",
   "metadata": {},
   "outputs": [],
   "source": [
    "def hcf(x, y):\n",
    "    if y > x:\n",
    "        num_check = y\n",
    "    if x > y:\n",
    "        num_check = x\n",
    "    while True:\n",
    "        if x % num_check == 0 and y % num_check == 0:\n",
    "                x = x / num_check\n",
    "                y = y / num_check\n",
    "                break\n",
    "        else:\n",
    "            num_check -= 1\n",
    "    print(num_check)"
   ]
  },
  {
   "cell_type": "code",
   "execution_count": 111,
   "id": "36825f67",
   "metadata": {},
   "outputs": [
    {
     "name": "stdout",
     "output_type": "stream",
     "text": [
      "64\n"
     ]
    }
   ],
   "source": [
    "hcf(64, 128)"
   ]
  },
  {
   "cell_type": "markdown",
   "id": "ed4673ce",
   "metadata": {},
   "source": [
    "# 3.\tWrite a Python Program to Convert Decimal to Binary, Octal and Hexadecimal?"
   ]
  },
  {
   "cell_type": "code",
   "execution_count": 138,
   "id": "c0b88b03",
   "metadata": {},
   "outputs": [],
   "source": [
    "def decimal_conversion(dec):\n",
    "    print(bin(dec)[2:], \"in binary.\")\n",
    "    print(oct(dec)[2:], \"in octal.\")\n",
    "    print(hex(dec)[2:], \"in hexadecimal.\")"
   ]
  },
  {
   "cell_type": "code",
   "execution_count": 141,
   "id": "d4ecf044",
   "metadata": {},
   "outputs": [
    {
     "name": "stdout",
     "output_type": "stream",
     "text": [
      "11100 in binary.\n",
      "34 in octal.\n",
      "1c in hexadecimal.\n"
     ]
    }
   ],
   "source": [
    "decimal_conversion(28)"
   ]
  },
  {
   "cell_type": "markdown",
   "id": "73195bf2",
   "metadata": {},
   "source": [
    "# 4.\tWrite a Python Program To Find ASCII value of a character?"
   ]
  },
  {
   "cell_type": "code",
   "execution_count": 116,
   "id": "40c287b0",
   "metadata": {},
   "outputs": [],
   "source": [
    "def ascii_value(char):\n",
    "    print(\"The ASCII value of '\" + char + \"' is\", ord(char))"
   ]
  },
  {
   "cell_type": "code",
   "execution_count": 120,
   "id": "e50c8be6",
   "metadata": {},
   "outputs": [
    {
     "name": "stdout",
     "output_type": "stream",
     "text": [
      "The ASCII value of '/' is 47\n"
     ]
    }
   ],
   "source": [
    "ascii_value(\"/\")"
   ]
  },
  {
   "cell_type": "markdown",
   "id": "cab5aa7c",
   "metadata": {},
   "source": [
    "# 5.\tWrite a Python Program to Make a Simple Calculator with 4 basic mathematical operations?"
   ]
  },
  {
   "cell_type": "code",
   "execution_count": 121,
   "id": "0e57054b",
   "metadata": {},
   "outputs": [],
   "source": [
    "import numpy as np\n",
    "\n",
    "def add(*args):\n",
    "    return sum(args)\n",
    "\n",
    "def sub(a, b):\n",
    "    return a-b\n",
    "\n",
    "def multiply(*args):\n",
    "    return np.prod(args)\n",
    "\n",
    "def divide(dividend, divider):\n",
    "    return dividend/divider"
   ]
  },
  {
   "cell_type": "code",
   "execution_count": 122,
   "id": "698ee472",
   "metadata": {},
   "outputs": [
    {
     "data": {
      "text/plain": [
       "84"
      ]
     },
     "execution_count": 122,
     "metadata": {},
     "output_type": "execute_result"
    }
   ],
   "source": [
    "add(22, 3, 1, 4, 54)"
   ]
  },
  {
   "cell_type": "code",
   "execution_count": 123,
   "id": "30ebc227",
   "metadata": {},
   "outputs": [
    {
     "data": {
      "text/plain": [
       "24"
      ]
     },
     "execution_count": 123,
     "metadata": {},
     "output_type": "execute_result"
    }
   ],
   "source": [
    "sub(45, 21)"
   ]
  },
  {
   "cell_type": "code",
   "execution_count": 127,
   "id": "5898f4eb",
   "metadata": {},
   "outputs": [
    {
     "data": {
      "text/plain": [
       "96"
      ]
     },
     "execution_count": 127,
     "metadata": {},
     "output_type": "execute_result"
    }
   ],
   "source": [
    "multiply(2, 4, 12)"
   ]
  },
  {
   "cell_type": "code",
   "execution_count": 126,
   "id": "e5da2424",
   "metadata": {},
   "outputs": [
    {
     "data": {
      "text/plain": [
       "2.0"
      ]
     },
     "execution_count": 126,
     "metadata": {},
     "output_type": "execute_result"
    }
   ],
   "source": [
    "divide(34, 17)"
   ]
  }
 ],
 "metadata": {
  "kernelspec": {
   "display_name": "Python 3 (ipykernel)",
   "language": "python",
   "name": "python3"
  },
  "language_info": {
   "codemirror_mode": {
    "name": "ipython",
    "version": 3
   },
   "file_extension": ".py",
   "mimetype": "text/x-python",
   "name": "python",
   "nbconvert_exporter": "python",
   "pygments_lexer": "ipython3",
   "version": "3.8.16"
  }
 },
 "nbformat": 4,
 "nbformat_minor": 5
}
