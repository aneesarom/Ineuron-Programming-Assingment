{
 "cells": [
  {
   "cell_type": "markdown",
   "id": "0ae1d1bb",
   "metadata": {},
   "source": [
    "# 1.\tWrite a Python Program to Check if a Number is Positive, Negative or Zero?"
   ]
  },
  {
   "cell_type": "code",
   "execution_count": 35,
   "id": "f499b638",
   "metadata": {},
   "outputs": [
    {
     "name": "stdout",
     "output_type": "stream",
     "text": [
      "Enter the number: -2\n",
      "The Entered number -2 is negative\n"
     ]
    }
   ],
   "source": [
    "n = int(input(\"Enter the number: \"))\n",
    "\n",
    "if n > 0:\n",
    "    print(f\"The Entered number {n} is positive\")\n",
    "elif n < 0:\n",
    "    print(f\"The Entered number {n} is negative\")\n",
    "elif n == 0:\n",
    "    print(f\"The Entered number {n} is zero\")"
   ]
  },
  {
   "cell_type": "markdown",
   "id": "3f1e0112",
   "metadata": {},
   "source": [
    "# 2.\tWrite a Python Program to Check if a Number is Odd or Even?"
   ]
  },
  {
   "cell_type": "code",
   "execution_count": 18,
   "id": "ff1a10b5",
   "metadata": {},
   "outputs": [
    {
     "name": "stdout",
     "output_type": "stream",
     "text": [
      "Enter the number: 8\n",
      "The Entered number 8 is even\n"
     ]
    }
   ],
   "source": [
    "n = int(input(\"Enter the number: \"))\n",
    "\n",
    "if n % 2 == 0:\n",
    "    print(f\"The Entered number {n} is even\")\n",
    "elif n % 2 == 1:\n",
    "    print(f\"The Entered number {n} is odd\")"
   ]
  },
  {
   "cell_type": "markdown",
   "id": "3ffba41c",
   "metadata": {},
   "source": [
    "# 3.\tWrite a Python Program to Check Leap Year?"
   ]
  },
  {
   "cell_type": "code",
   "execution_count": 38,
   "id": "c4389069",
   "metadata": {},
   "outputs": [
    {
     "name": "stdout",
     "output_type": "stream",
     "text": [
      "Which year do you want to check? 1900\n",
      "1900 is not a leap year\n"
     ]
    }
   ],
   "source": [
    "year = int(input(\"Which year do you want to check? \"))\n",
    "\n",
    "if year % 4 == 0:\n",
    "    if year % 100 == 0:\n",
    "        if year % 400 == 0:\n",
    "            print(f\"{year} is a leap year\")\n",
    "        else:\n",
    "            print(f\"{year} is not a leap year\")\n",
    "    else:\n",
    "        print(f\"{year} is a leap year\")\n",
    "else:\n",
    "    print(f\"{year} is not a leap year\")"
   ]
  },
  {
   "cell_type": "markdown",
   "id": "32f70c56",
   "metadata": {},
   "source": [
    "# 4.\tWrite a Python Program to Check Prime Number?"
   ]
  },
  {
   "cell_type": "code",
   "execution_count": 36,
   "id": "adc1968f",
   "metadata": {},
   "outputs": [],
   "source": [
    "def prime_finder(num):\n",
    "    count = 0\n",
    "    for i in range(1, num):\n",
    "        if num % i == 0:\n",
    "            count += 1\n",
    "            if count > 1:\n",
    "                return f\"{num} is not prime number\"\n",
    "    if count == 1:\n",
    "        return f\"{num} is prime number\"\n",
    "    else:\n",
    "        return f\"{num} is not prime number\""
   ]
  },
  {
   "cell_type": "code",
   "execution_count": 38,
   "id": "7c26a7e4",
   "metadata": {},
   "outputs": [
    {
     "data": {
      "text/plain": [
       "'23 is prime number'"
      ]
     },
     "execution_count": 38,
     "metadata": {},
     "output_type": "execute_result"
    }
   ],
   "source": [
    "prime_finder(23)"
   ]
  },
  {
   "cell_type": "markdown",
   "id": "155aeba1",
   "metadata": {},
   "source": [
    "# 5.\tWrite a Python Program to Print all Prime Numbers in an Interval of 1-10000?"
   ]
  },
  {
   "cell_type": "code",
   "execution_count": 34,
   "id": "7db547d2",
   "metadata": {
    "scrolled": false
   },
   "outputs": [
    {
     "name": "stdout",
     "output_type": "stream",
     "text": [
      "2 is prime number\n",
      "3 is prime number\n",
      "5 is prime number\n",
      "7 is prime number\n",
      "11 is prime number\n",
      "13 is prime number\n",
      "17 is prime number\n",
      "19 is prime number\n",
      "23 is prime number\n",
      "29 is prime number\n",
      "31 is prime number\n",
      "37 is prime number\n",
      "41 is prime number\n",
      "43 is prime number\n",
      "47 is prime number\n",
      "53 is prime number\n",
      "59 is prime number\n",
      "61 is prime number\n",
      "67 is prime number\n",
      "71 is prime number\n",
      "73 is prime number\n",
      "79 is prime number\n",
      "83 is prime number\n",
      "89 is prime number\n",
      "97 is prime number\n",
      "101 is prime number\n",
      "103 is prime number\n",
      "107 is prime number\n",
      "109 is prime number\n",
      "113 is prime number\n",
      "127 is prime number\n",
      "131 is prime number\n",
      "137 is prime number\n",
      "139 is prime number\n",
      "149 is prime number\n",
      "151 is prime number\n",
      "157 is prime number\n",
      "163 is prime number\n",
      "167 is prime number\n",
      "173 is prime number\n",
      "179 is prime number\n",
      "181 is prime number\n",
      "191 is prime number\n",
      "193 is prime number\n",
      "197 is prime number\n",
      "199 is prime number\n",
      "211 is prime number\n",
      "223 is prime number\n",
      "227 is prime number\n",
      "229 is prime number\n",
      "233 is prime number\n",
      "239 is prime number\n",
      "241 is prime number\n",
      "251 is prime number\n",
      "257 is prime number\n",
      "263 is prime number\n",
      "269 is prime number\n",
      "271 is prime number\n",
      "277 is prime number\n",
      "281 is prime number\n",
      "283 is prime number\n",
      "293 is prime number\n",
      "307 is prime number\n",
      "311 is prime number\n",
      "313 is prime number\n",
      "317 is prime number\n",
      "331 is prime number\n",
      "337 is prime number\n",
      "347 is prime number\n",
      "349 is prime number\n",
      "353 is prime number\n",
      "359 is prime number\n",
      "367 is prime number\n",
      "373 is prime number\n",
      "379 is prime number\n",
      "383 is prime number\n",
      "389 is prime number\n",
      "397 is prime number\n",
      "401 is prime number\n",
      "409 is prime number\n",
      "419 is prime number\n",
      "421 is prime number\n",
      "431 is prime number\n",
      "433 is prime number\n",
      "439 is prime number\n",
      "443 is prime number\n",
      "449 is prime number\n",
      "457 is prime number\n",
      "461 is prime number\n",
      "463 is prime number\n",
      "467 is prime number\n",
      "479 is prime number\n",
      "487 is prime number\n",
      "491 is prime number\n",
      "499 is prime number\n",
      "503 is prime number\n",
      "509 is prime number\n",
      "521 is prime number\n",
      "523 is prime number\n",
      "541 is prime number\n",
      "547 is prime number\n",
      "557 is prime number\n",
      "563 is prime number\n",
      "569 is prime number\n",
      "571 is prime number\n",
      "577 is prime number\n",
      "587 is prime number\n",
      "593 is prime number\n",
      "599 is prime number\n",
      "601 is prime number\n",
      "607 is prime number\n",
      "613 is prime number\n",
      "617 is prime number\n",
      "619 is prime number\n",
      "631 is prime number\n",
      "641 is prime number\n",
      "643 is prime number\n",
      "647 is prime number\n",
      "653 is prime number\n",
      "659 is prime number\n",
      "661 is prime number\n",
      "673 is prime number\n",
      "677 is prime number\n",
      "683 is prime number\n",
      "691 is prime number\n",
      "701 is prime number\n",
      "709 is prime number\n",
      "719 is prime number\n",
      "727 is prime number\n",
      "733 is prime number\n",
      "739 is prime number\n",
      "743 is prime number\n",
      "751 is prime number\n",
      "757 is prime number\n",
      "761 is prime number\n",
      "769 is prime number\n",
      "773 is prime number\n",
      "787 is prime number\n",
      "797 is prime number\n",
      "809 is prime number\n",
      "811 is prime number\n",
      "821 is prime number\n",
      "823 is prime number\n",
      "827 is prime number\n",
      "829 is prime number\n",
      "839 is prime number\n",
      "853 is prime number\n",
      "857 is prime number\n",
      "859 is prime number\n",
      "863 is prime number\n",
      "877 is prime number\n",
      "881 is prime number\n",
      "883 is prime number\n",
      "887 is prime number\n",
      "907 is prime number\n",
      "911 is prime number\n",
      "919 is prime number\n",
      "929 is prime number\n",
      "937 is prime number\n",
      "941 is prime number\n",
      "947 is prime number\n",
      "953 is prime number\n",
      "967 is prime number\n",
      "971 is prime number\n",
      "977 is prime number\n",
      "983 is prime number\n",
      "991 is prime number\n",
      "997 is prime number\n"
     ]
    }
   ],
   "source": [
    "for j in range(1, 1001):\n",
    "    if j == 2:\n",
    "        print(f\"{j} is prime number\")\n",
    "    for i in range(2, j):\n",
    "        if j % i == 0:\n",
    "            break\n",
    "        elif i == j-1:\n",
    "            print(f\"{j} is prime number\")"
   ]
  },
  {
   "cell_type": "code",
   "execution_count": null,
   "id": "d60b056d",
   "metadata": {},
   "outputs": [],
   "source": []
  }
 ],
 "metadata": {
  "kernelspec": {
   "display_name": "Python 3 (ipykernel)",
   "language": "python",
   "name": "python3"
  },
  "language_info": {
   "codemirror_mode": {
    "name": "ipython",
    "version": 3
   },
   "file_extension": ".py",
   "mimetype": "text/x-python",
   "name": "python",
   "nbconvert_exporter": "python",
   "pygments_lexer": "ipython3",
   "version": "3.8.16"
  }
 },
 "nbformat": 4,
 "nbformat_minor": 5
}
